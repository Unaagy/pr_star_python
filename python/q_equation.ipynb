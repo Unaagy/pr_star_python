{
 "cells": [
  {
   "cell_type": "code",
   "execution_count": 9,
   "id": "d3d7e91a-ec08-45c6-a381-f74355d16f64",
   "metadata": {},
   "outputs": [
    {
     "name": "stdout",
     "output_type": "stream",
     "text": [
      "D = -12\n",
      "Нет решений уравнения\n"
     ]
    }
   ],
   "source": [
    "import math\n",
    "\n",
    "a = 3\n",
    "b = 6\n",
    "c = 4\n",
    "\n",
    "D = b*b - 4*a*c\n",
    "print(f'D =', D)\n",
    "\n",
    "if D > 0:\n",
    "    x1 = (-b - math.sqrt(D))/(2*a)\n",
    "    x2 = (-b + math.sqrt(D))/(2*a)\n",
    "    print(f'x1 =', x1)\n",
    "    print(f'x2 =', x2)\n",
    "elif D == 0:\n",
    "    x = -b/(2*a)\n",
    "    print(f'x =', x)\n",
    "else:\n",
    "    print(f'Нет решений уравнения')"
   ]
  },
  {
   "cell_type": "code",
   "execution_count": null,
   "id": "fd362b41-015e-4bff-9530-6d1e0af0ad2d",
   "metadata": {},
   "outputs": [],
   "source": []
  }
 ],
 "metadata": {
  "kernelspec": {
   "display_name": "Python 3 (ipykernel)",
   "language": "python",
   "name": "python3"
  },
  "language_info": {
   "codemirror_mode": {
    "name": "ipython",
    "version": 3
   },
   "file_extension": ".py",
   "mimetype": "text/x-python",
   "name": "python",
   "nbconvert_exporter": "python",
   "pygments_lexer": "ipython3",
   "version": "3.12.2"
  }
 },
 "nbformat": 4,
 "nbformat_minor": 5
}
