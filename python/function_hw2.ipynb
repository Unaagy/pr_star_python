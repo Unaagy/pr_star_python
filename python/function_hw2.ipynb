{
 "cells": [
  {
   "cell_type": "code",
   "execution_count": 43,
   "id": "876f0458-ad14-4ba0-8a29-a90485e8722f",
   "metadata": {},
   "outputs": [
    {
     "name": "stdout",
     "output_type": "stream",
     "text": [
      ">>>  22.333333333333332\n"
     ]
    }
   ],
   "source": [
    "#Создай список словарей, где каждый словарь содержит ключи name, age и gender. \n",
    "#Напиши функцию, которая принимает этот список и пол и возвращает средний возраст для заданного пола.\n",
    "\n",
    "import math\n",
    "\n",
    "people = [\n",
    "          {'name':'Thomas', 'age':65, 'gender':'m'}, \n",
    "          {'name':'Anna', 'age':34, 'gender':'f'}, \n",
    "          {'name':'George', 'age':34, 'gender':'m'}, \n",
    "          {'name':'Lena', 'age':33, 'gender':'f'}, \n",
    "          {'name':'Maksim', 'age':4, 'gender':'m'}, \n",
    "          {'name':'Jan', 'age':1, 'gender':'m'},\n",
    "          {'name':'Alisa', 'age':0, 'gender':'f'}\n",
    "         ]\n",
    "\n",
    "def calc_avg_for_gender(people_list, gender_val):\n",
    "    ages_list_m = []                                         # создаем пустой список для хранения возраста male b famale\n",
    "    for dict_from_people in people_list:                     # запускаем цикл перебора по полу в размере нашего списка\n",
    "        if dict_from_people['gender'] == gender_val:         # условие проверки по полу\n",
    "            ages_list_m.append(dict_from_people['age'])      # записываем в список все возраста для дальнейшего вычисления среднего возраста\n",
    "    \n",
    "    return sum(ages_list_m) / len(ages_list_m)\n",
    "\n",
    "res = calc_avg_for_gender(people, 'f')\n",
    "\n",
    "print('>>> ', res)\n"
   ]
  },
  {
   "cell_type": "code",
   "execution_count": null,
   "id": "ef14c3c9-edd0-4730-a5f8-383c6148b2e4",
   "metadata": {},
   "outputs": [],
   "source": []
  },
  {
   "cell_type": "code",
   "execution_count": null,
   "id": "8cc6211e-aabe-4ef7-acbd-9d60f8a0b143",
   "metadata": {},
   "outputs": [],
   "source": []
  }
 ],
 "metadata": {
  "kernelspec": {
   "display_name": "Python 3 (ipykernel)",
   "language": "python",
   "name": "python3"
  },
  "language_info": {
   "codemirror_mode": {
    "name": "ipython",
    "version": 3
   },
   "file_extension": ".py",
   "mimetype": "text/x-python",
   "name": "python",
   "nbconvert_exporter": "python",
   "pygments_lexer": "ipython3",
   "version": "3.12.3"
  }
 },
 "nbformat": 4,
 "nbformat_minor": 5
}
