{
 "cells": [
  {
   "cell_type": "code",
   "execution_count": 1,
   "id": "3bcd7326-3022-4667-a5ac-7dd234922e1e",
   "metadata": {},
   "outputs": [
    {
     "name": "stdin",
     "output_type": "stream",
     "text": [
      "Введите предложение: vfvf vskf hfve b vskf jryj\n"
     ]
    },
    {
     "name": "stdout",
     "output_type": "stream",
     "text": [
      "{'vfvf': 1, 'vskf': 2, 'hfve': 1, 'b': 1, 'jryj': 1}\n",
      "vskf\n"
     ]
    }
   ],
   "source": [
    "# Создай программу, которая принимает от пользователя предложение и подсчитывает количество уникальных слов в предложении. \n",
    "# Используй словарь, где ключ - это слово, а количество элементов - это значение. Выведи на экран самое частое слово.\n",
    "\n",
    "# Подсказка: Ты можешь идти по предложению в цикле слово за словом и использовать идиому if word in dict, \n",
    "# чтобы проверить есть ли ключ word в словаре dict.\n",
    "\n",
    "user_sent = input('Введите предложение:') # получаем ввод пользователя\n",
    "word_list = user_sent.split()            # разбиваем на слова по пробелу\n",
    "\n",
    "my_dict = {}                             # создаем словарь\n",
    "\n",
    "for word in word_list:                   #проходим по списку слов\n",
    "    if word not in my_dict:              # проверить словарь на наличие слова\n",
    "        my_dict[word] = 1                # если слова нет - записать слово в словарь со значением 1\n",
    "    else:\n",
    "        my_dict[word] += 1               # если слово есть - по ключу получаем значение, увеличиваем на 1, результат записываем по ключу в словарь\n",
    "print(my_dict)\n",
    "#sorted_dict = dict(sorted(my_dict.items(), key=lambda x: x[1]))  # Sort dict by value\n",
    "#print(sorted_dict)\n",
    "#print(list(sorted_dict)[-1])            # вывести результат последнего ключа в словаре\n",
    "\n",
    "x = max(my_dict, key=my_dict.get)        #выводит слово с максимальным значением или первое слово, если таких 2 и более\n",
    "print(x)\n",
    "\n"
   ]
  },
  {
   "cell_type": "code",
   "execution_count": null,
   "id": "9c5a970e-69f7-44ee-a619-bd82e695e98e",
   "metadata": {},
   "outputs": [],
   "source": []
  }
 ],
 "metadata": {
  "kernelspec": {
   "display_name": "Python 3 (ipykernel)",
   "language": "python",
   "name": "python3"
  },
  "language_info": {
   "codemirror_mode": {
    "name": "ipython",
    "version": 3
   },
   "file_extension": ".py",
   "mimetype": "text/x-python",
   "name": "python",
   "nbconvert_exporter": "python",
   "pygments_lexer": "ipython3",
   "version": "3.12.2"
  }
 },
 "nbformat": 4,
 "nbformat_minor": 5
}
