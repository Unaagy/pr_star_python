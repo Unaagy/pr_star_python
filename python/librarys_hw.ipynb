{
 "cells": [
  {
   "cell_type": "code",
   "execution_count": 1,
   "id": "63b6818c-2e4f-4b3d-b67c-f3a322e68971",
   "metadata": {},
   "outputs": [
    {
     "data": {
      "text/plain": [
       "42.0"
      ]
     },
     "execution_count": 1,
     "metadata": {},
     "output_type": "execute_result"
    }
   ],
   "source": [
    "#Напиши программу, которая использует функцию mean из библиотеки numpy, чтобы посчитать среднее значение в массиве чисел [71, 1, 10, 0, 128]\n",
    "\n",
    "import numpy as np\n",
    "\n",
    "array = np.array([71, 1, 10, 0, 128])\n",
    "np.mean(array)"
   ]
  },
  {
   "cell_type": "code",
   "execution_count": null,
   "id": "db8f0418-1118-4681-9133-df2b87238ccf",
   "metadata": {},
   "outputs": [],
   "source": []
  }
 ],
 "metadata": {
  "kernelspec": {
   "display_name": "Python 3 (ipykernel)",
   "language": "python",
   "name": "python3"
  },
  "language_info": {
   "codemirror_mode": {
    "name": "ipython",
    "version": 3
   },
   "file_extension": ".py",
   "mimetype": "text/x-python",
   "name": "python",
   "nbconvert_exporter": "python",
   "pygments_lexer": "ipython3",
   "version": "3.12.3"
  }
 },
 "nbformat": 4,
 "nbformat_minor": 5
}
