{
 "cells": [
  {
   "cell_type": "code",
   "execution_count": 1,
   "id": "e25824ed-98e2-4cc4-bca0-7ca50b9cd16b",
   "metadata": {},
   "outputs": [],
   "source": [
    "import requests\n",
    "from requests import HTTPError"
   ]
  },
  {
   "cell_type": "code",
   "execution_count": 2,
   "id": "374f2347-6f0e-4d67-9ba7-914f81ff7b03",
   "metadata": {},
   "outputs": [],
   "source": [
    "# На вход принимаем нужный http-код, по умолчанию - 200 (Нормальное завершение запроса)\n",
    "def send_request(status_code=200):\n",
    "    \n",
    "    # Функция requests.get отправляет GET-запрос по указанному URL и возвращает ответ\n",
    "    response = requests.get(\"https://httpstat.us/%d\" % status_code)\n",
    "    \n",
    "    # По-умолчанию библиотека requests не выбрасывает исключения при кодах, означающих ошибку\n",
    "    # исключение нужно вызвать самому при помощи функции raise_for_status\n",
    "    response.raise_for_status()\n",
    "    \n",
    "    # Возвращаем код ответа\n",
    "    return response.status_code"
   ]
  },
  {
   "cell_type": "code",
   "execution_count": 24,
   "id": "374da812-e8cb-4ab3-b74e-5617d4a092dd",
   "metadata": {},
   "outputs": [
    {
     "name": "stdin",
     "output_type": "stream",
     "text": [
      "Введите http код для проверки > abc\n"
     ]
    },
    {
     "name": "stdout",
     "output_type": "stream",
     "text": [
      "Неверный формат ввода: invalid literal for int() with base 10: 'abc', введите числовое значение\n"
     ]
    },
    {
     "name": "stdin",
     "output_type": "stream",
     "text": [
      "Введите http код для проверки > 404\n"
     ]
    },
    {
     "name": "stdout",
     "output_type": "stream",
     "text": [
      "Получили целочисленно значение: 404 \n"
     ]
    }
   ],
   "source": [
    "# Объявляю функцию для входных данных input\n",
    "def get_integer(code):\n",
    "    return int(code)\n",
    "\n",
    "# Обработаем TypeError при вводе не int\n",
    "# Создаю индикатор для цикла while\n",
    "flag = True\n",
    "\n",
    "\n",
    "while flag == True:\n",
    "    code = input(\"Введите http код для проверки >\")\n",
    "    try:\n",
    "        # Загружаю данные из функции\n",
    "        code = get_integer(code)\n",
    "        print(f\"Получили целочисленно значение: {code} \")\n",
    "        flag = False\n",
    "        \n",
    "    # Обработаем TypeError\n",
    "    except Exception as exc:\n",
    "        # Выводим текст ошибки\n",
    "        print(\"Неверный формат ввода: %s\" % str(exc) + \", введите числовое значение\")"
   ]
  },
  {
   "cell_type": "code",
   "execution_count": 25,
   "id": "67cfd1e1-eb77-4dfe-9951-43eaf2808b2a",
   "metadata": {},
   "outputs": [
    {
     "name": "stdout",
     "output_type": "stream",
     "text": [
      "Произошла ошибка при отправке HTTP-запроса: 404 Client Error: Not Found for url: https://httpstat.us/404\n",
      "Получен код:\n",
      "404\n"
     ]
    }
   ],
   "source": [
    "# Задаём response_code в None, чтобы к блоку finally он в любом случае был задан\n",
    "response_code = None\n",
    "try:\n",
    "    # Отправляем запрос и получаем ответ\n",
    "    response_code = send_request(code)\n",
    "\n",
    "# Обработаем HTTPError https://requests.readthedocs.io/en/latest/api/#requests.HTTPError\n",
    "except HTTPError as ex:\n",
    "    # Выводим текст ошибки\n",
    "    print(\"Произошла ошибка при отправке HTTP-запроса: %s\" % str(ex))\n",
    "    \n",
    "    # Меняем переменную response_code\n",
    "    response_code = ex.response.status_code\n",
    "finally:\n",
    "    print(\"Получен код:\")\n",
    "    # Выводим на экран response_code\n",
    "    print(response_code)"
   ]
  },
  {
   "cell_type": "code",
   "execution_count": null,
   "id": "7256438b-5769-4471-b350-f88df61de3f4",
   "metadata": {},
   "outputs": [],
   "source": []
  }
 ],
 "metadata": {
  "kernelspec": {
   "display_name": "Python 3 (ipykernel)",
   "language": "python",
   "name": "python3"
  },
  "language_info": {
   "codemirror_mode": {
    "name": "ipython",
    "version": 3
   },
   "file_extension": ".py",
   "mimetype": "text/x-python",
   "name": "python",
   "nbconvert_exporter": "python",
   "pygments_lexer": "ipython3",
   "version": "3.12.3"
  }
 },
 "nbformat": 4,
 "nbformat_minor": 5
}
