{
 "cells": [
  {
   "cell_type": "code",
   "execution_count": 3,
   "id": "fecd0e86-94cb-426e-aabe-11c95a282a51",
   "metadata": {},
   "outputs": [
    {
     "ename": "SyntaxError",
     "evalue": "invalid syntax (1728138725.py, line 4)",
     "output_type": "error",
     "traceback": [
      "\u001b[1;36m  Cell \u001b[1;32mIn[3], line 4\u001b[1;36m\u001b[0m\n\u001b[1;33m    pip install --user ipykernel\u001b[0m\n\u001b[1;37m        ^\u001b[0m\n\u001b[1;31mSyntaxError\u001b[0m\u001b[1;31m:\u001b[0m invalid syntax\n"
     ]
    }
   ],
   "source": [
    "# https://janakiev.com/blog/jupyter-virtual-envs/\n",
    "\n",
    "#устанавливаем ipykernel, который предоставляет нам доступ к ядру IPython для Jupyter\n",
    "pip install --user ipykernel    "
   ]
  },
  {
   "cell_type": "code",
   "execution_count": null,
   "id": "34a1178c-4baa-40d0-9197-e720f862ea11",
   "metadata": {},
   "outputs": [],
   "source": []
  }
 ],
 "metadata": {
  "kernelspec": {
   "display_name": "Python 3 (ipykernel)",
   "language": "python",
   "name": "python3"
  },
  "language_info": {
   "codemirror_mode": {
    "name": "ipython",
    "version": 3
   },
   "file_extension": ".py",
   "mimetype": "text/x-python",
   "name": "python",
   "nbconvert_exporter": "python",
   "pygments_lexer": "ipython3",
   "version": "3.12.3"
  }
 },
 "nbformat": 4,
 "nbformat_minor": 5
}
