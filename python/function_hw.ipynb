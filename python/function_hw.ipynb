{
 "cells": [
  {
   "cell_type": "markdown",
   "id": "5a7d23bc",
   "metadata": {
    "id": "5a7d23bc"
   },
   "source": [
    "# Задача"
   ]
  },
  {
   "cell_type": "markdown",
   "id": "37d91ebd",
   "metadata": {
    "id": "37d91ebd"
   },
   "source": [
    "Напишите функцию, которая будет находить корни квадратного уравнения вида `a * x^2 + b * x + c = 0` и печатать результаты.\n",
    "\n",
    "- функция должна называться `solve` и иметь входные параметры `a, b, c`;\n",
    "- для вычисления дискриминанта, она должна вызывать другую функцию `discriminant`;\n",
    "\n",
    "Заготовки для функций и описание логики их работы приведены ниже."
   ]
  },
  {
   "cell_type": "code",
   "execution_count": 1,
   "id": "6ed2c24a",
   "metadata": {
    "id": "6ed2c24a"
   },
   "outputs": [],
   "source": [
    "from math import sqrt # требуется для вычисления квадратного корня. Импорт модулей, используемый здесь, будет разобран далее в курсе"
   ]
  },
  {
   "cell_type": "code",
   "execution_count": 2,
   "id": "21eb289f",
   "metadata": {
    "id": "21eb289f"
   },
   "outputs": [],
   "source": [
    "def discriminant(a, b, c):\n",
    "    \"\"\"Функция для вычисления дискриминанта\"\"\"\n",
    "    # возвращать значение, посчитанное по формуле b**2 - 4 * a * c\n",
    "    return b**2 - 4 * a * c"
   ]
  },
  {
   "cell_type": "code",
   "execution_count": 13,
   "id": "69629c98",
   "metadata": {
    "id": "69629c98"
   },
   "outputs": [],
   "source": [
    "def solve(a, b, c):\n",
    "    \"\"\"Функция, которая вычисляет корни квадратного уравнения\"\"\"\n",
    "    # 1. Вычислить дискриминант с использованием функции discriminant и сохранить результат в переменную d \n",
    "    d = discriminant(a, b, c)\n",
    "    print(f' Дискриминант d = {d}')\n",
    "    # 2. Если d < 0, печатать сообщение \"Корней нет\"\n",
    "    if d < 0:\n",
    "        print(f' Корней нет')\n",
    "    # 3. Если d == 0, печатать сообщение \"Один корень, x = <значение>\"\n",
    "    #    Формула, по которой считается корень в этом случае: x = - b / 2 / a\n",
    "    elif d == 0:\n",
    "        x = - b / 2 / a\n",
    "        print(f' Один корень, x = {x}')\n",
    "    # 4. Если d > 0, печатать сообщение \"Два корня, x1 = <первое значение>, x2 = <второе значение>\"\n",
    "    #    Формулы, по которым считаются корни:\n",
    "    #        x1 = (-b + sqrt(d)) / 2 / a\n",
    "    #        x2 = (-b - sqrt(d)) / 2 / a\n",
    "    else:\n",
    "        x1 = (-b + sqrt(d)) / 2 / a\n",
    "        x2 = (-b - sqrt(d)) / 2 / a\n",
    "        print(f' Два корня, x1 = {x1}, x2 = {x2}')\n",
    "    \n",
    "    # Для печати результатов рекомендуется использовать f-строки"
   ]
  },
  {
   "cell_type": "markdown",
   "id": "74e3338b",
   "metadata": {
    "id": "74e3338b"
   },
   "source": [
    "Протестируйте Вашу функцию на трех примерах:"
   ]
  },
  {
   "cell_type": "code",
   "execution_count": 14,
   "id": "e7fcd547-6d19-4bb6-ab78-3f39900485ae",
   "metadata": {},
   "outputs": [
    {
     "data": {
      "text/plain": [
       "0"
      ]
     },
     "execution_count": 14,
     "metadata": {},
     "output_type": "execute_result"
    }
   ],
   "source": [
    "discriminant(1, 2, 1)"
   ]
  },
  {
   "cell_type": "code",
   "execution_count": 15,
   "id": "e4eb7fb5",
   "metadata": {
    "id": "e4eb7fb5"
   },
   "outputs": [
    {
     "name": "stdout",
     "output_type": "stream",
     "text": [
      " Дискриминант d = 0\n",
      " Один корень, x = -1.0\n"
     ]
    }
   ],
   "source": [
    "solve(1, 2, 1)"
   ]
  },
  {
   "cell_type": "code",
   "execution_count": 16,
   "id": "1f029ac1",
   "metadata": {
    "id": "1f029ac1"
   },
   "outputs": [
    {
     "name": "stdout",
     "output_type": "stream",
     "text": [
      " Дискриминант d = 1\n",
      " Два корня, x1 = -1.0, x2 = -1.5\n"
     ]
    }
   ],
   "source": [
    "solve(2, 5, 3)"
   ]
  },
  {
   "cell_type": "code",
   "execution_count": 17,
   "id": "40ccf1ca",
   "metadata": {
    "id": "40ccf1ca"
   },
   "outputs": [
    {
     "name": "stdout",
     "output_type": "stream",
     "text": [
      " Дискриминант d = -11\n",
      " Корней нет\n"
     ]
    }
   ],
   "source": [
    "solve(1, -1, 3)"
   ]
  },
  {
   "cell_type": "code",
   "execution_count": 18,
   "id": "d88e5369-838d-4d2b-8fc5-e27e087b7b1b",
   "metadata": {},
   "outputs": [
    {
     "name": "stdout",
     "output_type": "stream",
     "text": [
      " Дискриминант d = 68\n",
      " Два корня, x1 = 4.561552812808831, x2 = 0.4384471871911697\n"
     ]
    }
   ],
   "source": [
    "solve(2, -10, 4)"
   ]
  },
  {
   "cell_type": "code",
   "execution_count": null,
   "id": "b7bdbc2e-0a70-4af8-966b-e41e08b17b40",
   "metadata": {},
   "outputs": [],
   "source": []
  }
 ],
 "metadata": {
  "colab": {
   "provenance": []
  },
  "kernelspec": {
   "display_name": "Python 3 (ipykernel)",
   "language": "python",
   "name": "python3"
  },
  "language_info": {
   "codemirror_mode": {
    "name": "ipython",
    "version": 3
   },
   "file_extension": ".py",
   "mimetype": "text/x-python",
   "name": "python",
   "nbconvert_exporter": "python",
   "pygments_lexer": "ipython3",
   "version": "3.12.3"
  }
 },
 "nbformat": 4,
 "nbformat_minor": 5
}
