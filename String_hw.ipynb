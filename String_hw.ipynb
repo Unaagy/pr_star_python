
# Online Python - IDE, Editor, Compiler, Interpreter

user_sent = input('Введите предложение:')
count_word = user_sent.split()

x = len(count_word)
print(x)


