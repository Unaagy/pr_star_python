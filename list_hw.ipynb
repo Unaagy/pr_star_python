{
 "cells": [
  {
   "cell_type": "code",
   "execution_count": 3,
   "id": "4def0c58-4cd6-4b58-bfa5-32086c327481",
   "metadata": {},
   "outputs": [
    {
     "name": "stdout",
     "output_type": "stream",
     "text": [
      "[5, 6, 7, 8, 9, 10, 11, 12, 13, 14]\n",
      "[5, 7, 9, 11, 13]\n",
      "45045\n",
      "45\n",
      "[45045, 45, 13, 11, 9, 7, 5]\n",
      "['45045', '45', '13', '11', '9', '7', '5']\n",
      "<class 'list'>\n",
      "45045=45=13=11=9=7=5\n"
     ]
    }
   ],
   "source": [
    "# Создайте список из 10 последовательных натуральных чисел, начиная с числа 5\n",
    "range_list = list(range(5,15,1))                 \n",
    "print(range_list)\n",
    "\n",
    "# Выберите те, что стоят на четных индексах (0, 2, 4 и т.д.) и переместите их в отдельную переменную.\n",
    "new_list = range_list [0:9:2] \n",
    "print(new_list)\n",
    "\n",
    "# Найдите полное произведение этих чисел.\n",
    "multy = 1\n",
    "for i in new_list:                               \n",
    "    multy *= i\n",
    "print(multy)\n",
    "\n",
    "#Найдите полную сумму этих чисел.\n",
    "total = 0\n",
    "for elem in new_list:\n",
    "    total += elem\n",
    "print(total)\n",
    "\n",
    "#Создайте список, который будет состоять из списка, полученного в п.2, полного произведения и суммы, отсортированных по убыванию.\n",
    "rec_list = []\n",
    "rec_list.extend(new_list)\n",
    "rec_list.append(multy)\n",
    "rec_list.append(total)\n",
    "rec_list.sort(reverse=True)\n",
    "print(rec_list)\n",
    "\n",
    "#Переведите каждый элемент списка в строку\n",
    "rec_str = [str(v) for v in rec_list]\n",
    "print(rec_str)\n",
    "print(type(rec_str))\n",
    "\n",
    "#Методом .join() соедините элементы через символ =\n",
    "new_rec_str = '='.join(rec_str)\n",
    "print(new_rec_str)"
   ]
  },
  {
   "cell_type": "code",
   "execution_count": null,
   "id": "3f4b2f12-c84e-472a-8476-83548ba6285c",
   "metadata": {},
   "outputs": [],
   "source": []
  }
 ],
 "metadata": {
  "kernelspec": {
   "display_name": "Python 3 (ipykernel)",
   "language": "python",
   "name": "python3"
  },
  "language_info": {
   "codemirror_mode": {
    "name": "ipython",
    "version": 3
   },
   "file_extension": ".py",
   "mimetype": "text/x-python",
   "name": "python",
   "nbconvert_exporter": "python",
   "pygments_lexer": "ipython3",
   "version": "3.12.2"
  }
 },
 "nbformat": 4,
 "nbformat_minor": 5
}
