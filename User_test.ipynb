{
 "cells": [
  {
   "cell_type": "raw",
   "id": "27c62f70-047e-49b9-b179-ee356d2a7175",
   "metadata": {
    "scrolled": true
   },
   "source": [
    "#Реализовать тестирование пользователя по пройденному материалу\n",
    "\n",
    "q1 = 'Какая версия языка сейчас актуальна?'\n",
    "q2 = 'Какая кодировка используется в строках?'\n",
    "q3 = 'Сколько значений есть у bool?'\n",
    "q4 = 'К какому типу данных относится float?'\n",
    "q5 = 'Закончите пару условного оператора if-else, match-...?'\n",
    "q6 = 'Какое кодовое слово использует цикл с предусловием?'\n",
    "q7 = 'Какое первое кодовое слово использует цикл с постусловием (\"перебирающий итератор\")?'\n",
    "q8 = 'Сколько bytes памяти использует кодировка UTF8?'\n",
    "q9 = 'Соединение двух строк в единую строку - это?'\n",
    "q10 = 'Объект, который может возвращать свои вложенные объекты по одному называется ...?'\n",
    "\n",
    "q_list = [q1, q2, q3, q4, q5, q6, q7, q8, q9, q10]\n",
    "\n",
    "exp1 = 'Python3'\n",
    "exp2 = 'UTF8'\n",
    "exp3 = '2'\n",
    "exp4 = 'дробные'\n",
    "exp5 = 'case'\n",
    "exp6 = 'while'\n",
    "exp7 = 'for'\n",
    "exp8 = '1'\n",
    "exp9 = 'Конкатенация'\n",
    "exp10 = 'Итерабельный'\n",
    "\n",
    "exp_list = [exp1, exp2, exp3, exp4, exp5, exp6, exp7, exp8, exp9, exp10]\n",
    "\n",
    "counter = 0\n",
    "for question, expected in zip(q_list, exp_list):\n",
    "    while True:\n",
    "        user_answer = input(question)\n",
    "        counter += 1\n",
    "        if (user_answer.lower()) == expected.lower():\n",
    "            print('Correct!')\n",
    "            break\n",
    "        else:\n",
    "            print('Wrong!')\n",
    "print('Количество попыток:', counter, 'на 10 вопросов')\n",
    "print('Ты справился молодец!')\n",
    "\n"
   ]
  },
  {
   "cell_type": "code",
   "execution_count": null,
   "id": "7eef6f07-48b1-4374-b6be-fe0f6fb60000",
   "metadata": {},
   "outputs": [],
   "source": []
  }
 ],
 "metadata": {
  "kernelspec": {
   "display_name": "Python 3 (ipykernel)",
   "language": "python",
   "name": "python3"
  },
  "language_info": {
   "codemirror_mode": {
    "name": "ipython",
    "version": 3
   },
   "file_extension": ".py",
   "mimetype": "text/x-python",
   "name": "python",
   "nbconvert_exporter": "python",
   "pygments_lexer": "ipython3",
   "version": "3.12.2"
  }
 },
 "nbformat": 4,
 "nbformat_minor": 5
}
