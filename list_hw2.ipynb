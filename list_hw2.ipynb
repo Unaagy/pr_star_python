{
 "cells": [
  {
   "cell_type": "code",
   "execution_count": 6,
   "id": "f1ea8a6a-3c50-4973-83a6-69a7d1554b9d",
   "metadata": {},
   "outputs": [
    {
     "name": "stdout",
     "output_type": "stream",
     "text": [
      "[1, 1, 2, 3, -7, -10]\n"
     ]
    }
   ],
   "source": [
    "#Есть список a = [1, 1, 2, 3, 5, 8, 13, 21, 34, 55, 89, 5, 9, -7, -10]\n",
    "#Выведите все элементы, которые меньше 5.\n",
    "#Вывод через запятую и пробел без кавычек.\n",
    "\n",
    "a = [1, 1, 2, 3, 5, 8, 13, 21, 34, 55, 89, 5, 9, -7, -10]\n",
    "new_list = [i for i in a if i<5]\n",
    "print(new_list)\n"
   ]
  },
  {
   "cell_type": "code",
   "execution_count": 2,
   "id": "6a1cdffc-c3e9-4001-b6ad-bdf97e685143",
   "metadata": {},
   "outputs": [
    {
     "name": "stdout",
     "output_type": "stream",
     "text": [
      "[1, 2, 3, 34, 5, 8, 11, 13]\n",
      "[1, 2, 3, 5, 8, 11, 13, 34]\n"
     ]
    }
   ],
   "source": [
    "#Нужно вернуть список, который состоит из элементов, общих для этих двух списков. \n",
    "#Список должен содержать только уникальные значения и быть отсортирован по возрастанию. Вывод через запятую без кавычек.\n",
    "#a = [1, 1, 2, 3, 5, 8, 13, 21, 34, 55, 89, 11]\n",
    "#b = [1, 2, 3, 4, 5, 6, 7, 8, 9, 10, 34, 11, 12, 13]\n",
    "\n",
    "a = [1, 1, 2, 3, 5, 8, 13, 21, 34, 55, 89, 11]\n",
    "b = [1, 2, 3, 4, 5, 6, 7, 8, 9, 10, 34, 11, 12, 13]\n",
    "c = list(set(a) & set(b))\n",
    "uniq_elem_list = list(set(c))\n",
    "print(uniq_elem_list)\n",
    "uniq_elem_list.sort()\n",
    "print(uniq_elem_list)"
   ]
  },
  {
   "cell_type": "code",
   "execution_count": 3,
   "id": "d6da31bd-e184-4e4d-8c6e-5bd5ca560ed1",
   "metadata": {},
   "outputs": [
    {
     "name": "stdout",
     "output_type": "stream",
     "text": [
      "{'kafka': 3, 'python': 5, 'course': 4, 'stack': 6, 'flow': 7, 'dict': 4, 'list': 5, 'star': 5, 'product': 4, 'analytics': 3, 'ython': 2, 'set': 1, 'ist': 3, 'fit': 3, 'predict': 3, 'ourse': 2}\n",
      "{'analytics': 3, 'course': 4, 'dict': 4, 'fit': 3, 'flow': 7, 'ist': 3, 'kafka': 3, 'list': 5, 'ourse': 2, 'predict': 3, 'product': 4, 'python': 5, 'set': 1, 'stack': 6, 'star': 5, 'ython': 2}\n",
      "('flow', 7)\n"
     ]
    }
   ],
   "source": [
    "#Считаем слова в строке. Дана строка. Выведите слово, которое встречается чаще всего. \n",
    "#Если таких слов несколько, выведите то, которое меньше в лексикографическом порядке.\n",
    "\n",
    "s = 'kafka python course stack flow dict list python stack course star product star product analytics flow star kafka stack flow ython list set ist fit predict dict list python ourse ython ourse star product ist fit predict analytics kafka stack flow product ist fit predict analytics star flow dict flow list python course stack flow dict list python stack course'\n",
    "word_list = s.split()            # разбиваем на слова по пробелу\n",
    "#print(word_list)\n",
    "\n",
    "new_dict = {}                    #создаем пустой словарь\n",
    "for word in word_list:\n",
    "    val = 1                      #присваиваем значение 1 для нового ключа\n",
    "    if word not in new_dict.keys():\n",
    "        new_dict[word] = val\n",
    "    else:\n",
    "        new_dict[word] += val    #увеличиваем знаем на 1, если уже есть слово в словаре\n",
    "print(new_dict)\n",
    "sort_dict = dict(sorted(new_dict.items(), key = lambda x: x[0], reverse = False))  #сортируем по key и снова преобразуем в dict\n",
    "print(sort_dict)\n",
    "sort_dict1 = sorted(sort_dict.items(), key = lambda x: x[1], reverse = True)  #сортируем по значению\n",
    "print(sort_dict1[0])"
   ]
  },
  {
   "cell_type": "code",
   "execution_count": 4,
   "id": "f646ce1c-fe11-4ec9-9b15-8364ef5bbfb3",
   "metadata": {},
   "outputs": [
    {
     "name": "stdout",
     "output_type": "stream",
     "text": [
      "ceo\n"
     ]
    }
   ],
   "source": [
    "#Создайте словарь из двух списков. Чтобы по каждому имени можно было узнать профессию. Выведи профессию maria.\n",
    "#names = ['igor', 'dasha', 'martin', 'vladimir', 'rishat', 'maria', 'marat', 'petr', 'dima', 'polina', 'katya', 'elena']\n",
    "#occupations = ['smm', 'developer', 'analyst', 'president', 'analyst', 'ceo', 'customer development', 'founder', 'developer', 'ml engineer', 'product manager', 'cmo']\n",
    "\n",
    "names = ['igor', 'dasha', 'martin', 'vladimir', 'rishat', 'maria', 'marat', 'petr', 'dima', 'polina', 'katya', 'elena']\n",
    "occupations = ['smm', 'developer', 'analyst', 'president', 'analyst', 'ceo', 'customer development', 'founder', 'developer', 'ml engineer', 'product manager', 'cmo']\n",
    "\n",
    "pairs = dict(zip(names, occupations))\n",
    "print(pairs['maria'])\n"
   ]
  },
  {
   "cell_type": "code",
   "execution_count": 29,
   "id": "c2b5b399-cc96-49f9-9602-b08d60d85c51",
   "metadata": {},
   "outputs": [
    {
     "name": "stdout",
     "output_type": "stream",
     "text": [
      "{1: 10, 2: 20, 3901: 11, 384: 13, 8489: 1, 48: 10, 3: 13, 4: 40, 93: 12, 91: 41, 95: 1, 841: 11, 584: 11, 5: 50, 6: 60, 9: 90, 7: 11}\n",
      "{20: 1, 40: 1, 12: 1, 41: 1, 50: 1, 60: 1, 90: 1, 10: 2, 13: 2, 1: 2, 11: 4}\n",
      "17,11\n"
     ]
    }
   ],
   "source": [
    "# Напишите код, который соединит эти словари в один:\n",
    "# dict1={1:10, 2:20, 3901:11, 384:13, 8489:1, 48:10}\n",
    "# dict2={3:30, 4:40, 93:12, 91:41, 95:1, 841:11, 584:11}\n",
    "# dict3={5:50, 6:60, 9:90, 3:13, 7:11}\n",
    "# Выведи длину получившегося словаря и значение, встречающееся чаще других в нем через запятую без пробела. Например: 3,19\n",
    "\n",
    "dict1={1:10, 2:20, 3901:11, 384:13, 8489:1, 48:10}\n",
    "dict2={3:30, 4:40, 93:12, 91:41, 95:1, 841:11, 584:11}\n",
    "dict3={5:50, 6:60, 9:90, 3:13, 7:11}\n",
    "\n",
    "dict_from3 ={**dict1, **dict2, **dict3}\n",
    "print(dict_from3)\n",
    "# print(len(dict_from3))\n",
    "list_dict_from3 = list(dict_from3.values())\n",
    "val_dict = {}\n",
    "for v in list_dict_from3:\n",
    "    elem = 1\n",
    "    if v not in val_dict.keys():\n",
    "        val_dict[v] = elem\n",
    "    else:\n",
    "        val_dict[v] += elem\n",
    "sort_val = dict(sorted(val_dict.items(), key = lambda x: x[1], reverse = False))\n",
    "print(sort_val)\n",
    "str_answer1 = str(len(dict_from3))\n",
    "str_answer2 = str(list(sort_val.keys())[-1])\n",
    "list_for_str = [str_answer1, str_answer2]\n",
    "str_answer = ','.join(list_for_str) \n",
    "print(str_answer)   #выводиит через запятую без пробелов"
   ]
  },
  {
   "cell_type": "code",
   "execution_count": 33,
   "id": "434f77c5-8ea8-4838-beed-0c77e051aa02",
   "metadata": {},
   "outputs": [
    {
     "name": "stdout",
     "output_type": "stream",
     "text": [
      "{'P': 1, 'S': 1, 'C': 1, 'b': 1, 'g': 1, 'x': 1, 'p': 1, 'q': 1, 'y': 2, 'u': 2, 'f': 2, 'l': 2, 'w': 2, 'h': 3, 'd': 4, 'c': 4, 'i': 5, 'o': 6, 'r': 6, 's': 6, 'n': 7, 'a': 7, 't': 8, 'e': 8}\n",
      "dict_keys(['P', 'S', 'C', 'b', 'g', 'x', 'p', 'q', 'y', 'u', 'f', 'l', 'w', 'h', 'd', 'c', 'i', 'o', 'r', 's', 'n', 'a', 't', 'e'])\n",
      "PSCbgxpq\n"
     ]
    }
   ],
   "source": [
    "#Напишите код, который для любой строки автоматически вернет словарь с количеством вхождений каждого символа. \n",
    "#Потом, используя этот код, выведи для строки given_string 8 самых непопулярных букв без пробелов и запятых. Регистр надо учитывать!\n",
    "# пример\n",
    "#given_string = 'apple'\n",
    "#result_dict = {'a': 1, 'p': 2, 'l': 1, 'e': 1}\n",
    "#given_string = 'Python Star Course for beginners and experts for data science and analytics without sql with code'\n",
    "\n",
    "given_string = 'Python Star Course for beginners and experts for data science and analytics without sql with code'\n",
    "new_str = given_string.split()\n",
    "not_gap_string = ''.join(new_str)\n",
    "# print(not_gap_string)\n",
    "\n",
    "letter_dict = {}\n",
    "for letter in not_gap_string:\n",
    "    if letter not in letter_dict:\n",
    "        letter_dict[letter] = 1\n",
    "    else:\n",
    "        letter_dict[letter] += 1    #осторожно с оператором += и =+\n",
    "sort_dict = dict(sorted(letter_dict.items(), key = lambda v: v[1]))\n",
    "print(sort_dict)\n",
    "print(sort_dict.keys())\n",
    "list_keys = list(sort_dict.keys())\n",
    "str_key8 = ''.join(list_keys[:8])\n",
    "print(str_key8)"
   ]
  },
  {
   "cell_type": "code",
   "execution_count": null,
   "id": "3f0b51e6-eca0-46f6-b6a5-a7ef939e30e1",
   "metadata": {},
   "outputs": [],
   "source": []
  }
 ],
 "metadata": {
  "kernelspec": {
   "display_name": "Python 3 (ipykernel)",
   "language": "python",
   "name": "python3"
  },
  "language_info": {
   "codemirror_mode": {
    "name": "ipython",
    "version": 3
   },
   "file_extension": ".py",
   "mimetype": "text/x-python",
   "name": "python",
   "nbconvert_exporter": "python",
   "pygments_lexer": "ipython3",
   "version": "3.12.3"
  }
 },
 "nbformat": 4,
 "nbformat_minor": 5
}
