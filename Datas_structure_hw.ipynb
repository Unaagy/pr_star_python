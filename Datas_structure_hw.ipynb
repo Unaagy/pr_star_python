{
 "cells": [
  {
   "cell_type": "markdown",
   "id": "9658011a",
   "metadata": {
    "id": "9658011a"
   },
   "source": [
    "# Задача №1\n",
    "\n",
    "Напишите функцию `find_sum_elements()`, которая принимает на вход массив nums и число target и возвращает массив, содержащий индексы двух элементов nums, сумма которых равна target.\n",
    "\n",
    "Примеры:\n",
    "- `find_sum_elements([2,7,11,15], 9) = [2, 7]`\n",
    "- `find_sum_elements([3, 2, 4], 6) = [2, 4]`\n",
    "\n",
    "Важные детали\n",
    "- Гарантируется, что такие два числа всегда в nums существуют.\n",
    "- Порядок элементов в ответе не важен.\n",
    "\n",
    "Попробуйте придумать, при помощи какой структуры данных можно решить эту задачу за один проход по массиву?"
   ]
  },
  {
   "cell_type": "code",
   "execution_count": 61,
   "id": "b165abc5",
   "metadata": {
    "id": "b165abc5"
   },
   "outputs": [],
   "source": [
    "# Замените тело функции на своё решение\n",
    "def find_sum_elements(nums, target):\n",
    "    print(nums)\n",
    "    if len(nums) < 2:           # проверяем на наличие минимум 2х чисел в массиве (len())\n",
    "        print(f'Недостаточно количество элементов в массиве')\n",
    "        exit()\n",
    "    hash_dict_nums = {}             # создаем пустой словарь для записи хэш-таблицы\n",
    "    for i, n in enumerate(nums):    # проверка наличия элементов в массиве, где i - индекс элемента\n",
    "        elem2 = target - n                  # ищем 2 слагаемое в словаре, предположив, что первое слагаемое - это первый элемент в массиве \n",
    "        if elem2 in hash_dict_nums:         # если 2е слагаемое записано в хэш-таблицу, то возвращаем индексы обоих слагаемых\n",
    "            index1 = i                      # индекс первого слагаемого из массива - n\n",
    "            index2 = hash_dict_nums.get(elem2)  # достаем из хэш-таблицы индекс второго слагаемого - elem2\n",
    "            print(f'>>> {index1}, {index2}')\n",
    "            return [index1, index2]\n",
    "        else:\n",
    "            hash_dict_nums[n] = i    # записываем в словарь элементы, которыx еще там нет (ключ - элемент массива, значение - индекс элемента)\n",
    "    return [-1, -1]                         #если что-то пошло не так, возвращаем -1, -1"
   ]
  },
  {
   "cell_type": "markdown",
   "id": "7fb5e31f",
   "metadata": {
    "id": "7fb5e31f"
   },
   "source": [
    "## Проверьте себя\n",
    "\n",
    "Ячейка ниже содержит тесты, при помощи которых можно проверить корретность решения. Просто выполните ячейку и она распечатает результат."
   ]
  },
  {
   "cell_type": "code",
   "execution_count": 64,
   "id": "4bfc9a4f",
   "metadata": {
    "id": "4bfc9a4f"
   },
   "outputs": [
    {
     "name": "stdout",
     "output_type": "stream",
     "text": [
      "[2, 11, 15, 7]\n",
      ">>> 3, 0\n",
      "[3, 2, 4]\n",
      ">>> 2, 1\n",
      "[0, 0, 1]\n",
      ">>> 1, 0\n",
      "[3, 2, 1]\n",
      ">>> 2, 0\n",
      "[1, 3, 6, 7, 9]\n",
      ">>> 3, 1\n",
      "\n",
      "Количество правильно решённых тестов: 5 из 5\n",
      "Отличный результат!\n"
     ]
    }
   ],
   "source": [
    "def test_task_1():\n",
    "    tests = (\n",
    "        ([2, 11, 15, 7], 9),  \n",
    "        ([3, 2, 4], 6),\n",
    "        ([0, 0, 1], 0),\n",
    "        ([3, 2, 1], 4),\n",
    "        ([1, 3, 6, 7, 9], 10),\n",
    "    )\n",
    "    num_correct = 0\n",
    "    for nums, target in tests:\n",
    "        result = find_sum_elements(nums, target)\n",
    "        if not isinstance(result, list):\n",
    "            print(f'find_sum_elements() должна возвращать массив, а не {type(result)} (nums={nums}, target={target})')\n",
    "            continue\n",
    "        if len(result) != 2:\n",
    "            print(f'find_sum_elements() должна возвращать массив из двух элементов (nums={nums}, target={target})')\n",
    "            continue\n",
    "        if result[0] == result[1]:\n",
    "            print(f'find_sum_elements() вернула два одинаковых индекса')\n",
    "            continue\n",
    "        if result[0] >= len(nums) or result[1] >= len(nums):\n",
    "            print(f'Один из индексов выходит за границы nums')\n",
    "            continue\n",
    "        if nums[result[0]] + nums[result[1]] != target:\n",
    "            print(f'Сумма элементов nums={nums} с индексами {result[0]} и {result[1]} не равна {target}')\n",
    "            continue\n",
    "        num_correct += 1\n",
    "    print()\n",
    "    print(f'Количество правильно решённых тестов: {num_correct} из {len(tests)}')\n",
    "    if num_correct == len(tests):\n",
    "        print('Отличный результат!')\n",
    "\n",
    "test_task_1()\n"
   ]
  },
  {
   "cell_type": "markdown",
   "id": "ed1fd8a9",
   "metadata": {
    "id": "ed1fd8a9"
   },
   "source": [
    "# Задача №2\n",
    "\n",
    "Панграмма – это фраза, содержащая все буквы алфавита, например «Съешь же ещё этих мягких французских булок да выпей чаю».\n",
    "\n",
    "Напишите функцию, которая принимает на вход одну строку и проверяет, является ли она панграммой\n",
    "на русском языке.\n",
    "\n",
    "Важные детали\n",
    "- Функция должна возвращать True или False\n",
    "- Функции могут содержать строчные и заглавные буквы. Все строку можно буквы можно превратить в строчные при помощи метода .lower()\n",
    "- Используйте операции сравнения, чтобы проверить, входит ли буква в диапазон букв русского алфавита: `c >= 'а' and с <= 'я'`\n"
   ]
  },
  {
   "cell_type": "code",
   "execution_count": 65,
   "id": "08b922e1",
   "metadata": {
    "id": "08b922e1"
   },
   "outputs": [
    {
     "name": "stdout",
     "output_type": "stream",
     "text": [
      "абв\n"
     ]
    }
   ],
   "source": [
    "# Пример работы с lower\n",
    "\n",
    "s = 'АБВ'\n",
    "s_lower = s.lower()\n",
    "print(s_lower)\n",
    "\n",
    "# вспомогательная функция, которая проверяет, является ли символ буквой русского языка\n",
    "def is_russian_alphabet_letter(c):\n",
    "    return len(c) == 1 and (\n",
    "        c >= 'а' and c <= 'я'\n",
    "        # буква ё может кодироваться разными способами, поэтому проверим её отдельно\n",
    "        or c == 'ё'\n",
    "    )"
   ]
  },
  {
   "cell_type": "code",
   "execution_count": null,
   "id": "6116506e",
   "metadata": {
    "id": "6116506e"
   },
   "outputs": [],
   "source": [
    "def is_pangram(s):\n",
    "    pass"
   ]
  },
  {
   "cell_type": "markdown",
   "id": "72f9d663",
   "metadata": {
    "id": "72f9d663"
   },
   "source": [
    "## Проверьте себя\n",
    "\n",
    "Ячейка ниже содержит тесты, при помощи которых можно проверить корретность решения. Просто выполните ячейку и она распечатает результат."
   ]
  },
  {
   "cell_type": "code",
   "execution_count": null,
   "id": "9f7cd780",
   "metadata": {
    "colab": {
     "base_uri": "https://localhost:8080/",
     "height": 355
    },
    "executionInfo": {
     "elapsed": 309,
     "status": "error",
     "timestamp": 1694707938251,
     "user": {
      "displayName": "productstar homework",
      "userId": "17463514396133947951"
     },
     "user_tz": -180
    },
    "id": "9f7cd780",
    "outputId": "68141617-78f8-42c7-f24b-bd9fc8cae42c"
   },
   "outputs": [
    {
     "ename": "NameError",
     "evalue": "ignored",
     "output_type": "error",
     "traceback": [
      "\u001b[0;31m---------------------------------------------------------------------------\u001b[0m",
      "\u001b[0;31mNameError\u001b[0m                                 Traceback (most recent call last)",
      "\u001b[0;32m<ipython-input-2-971efab3e2f9>\u001b[0m in \u001b[0;36m<cell line: 21>\u001b[0;34m()\u001b[0m\n\u001b[1;32m     19\u001b[0m         \u001b[0mprint\u001b[0m\u001b[0;34m(\u001b[0m\u001b[0;34m'Отличный результат!'\u001b[0m\u001b[0;34m)\u001b[0m\u001b[0;34m\u001b[0m\u001b[0;34m\u001b[0m\u001b[0m\n\u001b[1;32m     20\u001b[0m \u001b[0;34m\u001b[0m\u001b[0m\n\u001b[0;32m---> 21\u001b[0;31m \u001b[0mtest_task_2\u001b[0m\u001b[0;34m(\u001b[0m\u001b[0;34m)\u001b[0m\u001b[0;34m\u001b[0m\u001b[0;34m\u001b[0m\u001b[0m\n\u001b[0m",
      "\u001b[0;32m<ipython-input-2-971efab3e2f9>\u001b[0m in \u001b[0;36mtest_task_2\u001b[0;34m()\u001b[0m\n\u001b[1;32m      9\u001b[0m     \u001b[0mnum_correct\u001b[0m \u001b[0;34m=\u001b[0m \u001b[0;36m0\u001b[0m\u001b[0;34m\u001b[0m\u001b[0;34m\u001b[0m\u001b[0m\n\u001b[1;32m     10\u001b[0m     \u001b[0;32mfor\u001b[0m \u001b[0mtest\u001b[0m\u001b[0;34m,\u001b[0m \u001b[0mcorrect_answer\u001b[0m \u001b[0;32min\u001b[0m \u001b[0mtests\u001b[0m\u001b[0;34m:\u001b[0m\u001b[0;34m\u001b[0m\u001b[0;34m\u001b[0m\u001b[0m\n\u001b[0;32m---> 11\u001b[0;31m         \u001b[0mresult\u001b[0m \u001b[0;34m=\u001b[0m \u001b[0mis_pangram\u001b[0m\u001b[0;34m(\u001b[0m\u001b[0mtest\u001b[0m\u001b[0;34m)\u001b[0m\u001b[0;34m\u001b[0m\u001b[0;34m\u001b[0m\u001b[0m\n\u001b[0m\u001b[1;32m     12\u001b[0m         \u001b[0;32mif\u001b[0m \u001b[0mresult\u001b[0m \u001b[0;34m!=\u001b[0m \u001b[0mcorrect_answer\u001b[0m\u001b[0;34m:\u001b[0m\u001b[0;34m\u001b[0m\u001b[0;34m\u001b[0m\u001b[0m\n\u001b[1;32m     13\u001b[0m             \u001b[0mprint\u001b[0m\u001b[0;34m(\u001b[0m\u001b[0;34mf'Проверьте свою функцию на строке \"{test}\"'\u001b[0m\u001b[0;34m)\u001b[0m\u001b[0;34m\u001b[0m\u001b[0;34m\u001b[0m\u001b[0m\n",
      "\u001b[0;32m<ipython-input-1-cb7813437e8b>\u001b[0m in \u001b[0;36mis_pangram\u001b[0;34m(s)\u001b[0m\n\u001b[1;32m      6\u001b[0m     \u001b[0;31m# (вместо множества можно так же использовать словарь с ключами в виде букв и любыми значениями)\u001b[0m\u001b[0;34m\u001b[0m\u001b[0;34m\u001b[0m\u001b[0m\n\u001b[1;32m      7\u001b[0m     \u001b[0;32mfor\u001b[0m \u001b[0mc\u001b[0m \u001b[0;32min\u001b[0m \u001b[0ms\u001b[0m\u001b[0;34m:\u001b[0m\u001b[0;34m\u001b[0m\u001b[0;34m\u001b[0m\u001b[0m\n\u001b[0;32m----> 8\u001b[0;31m         \u001b[0;32mif\u001b[0m \u001b[0mis_russian_alphabet_letter\u001b[0m\u001b[0;34m(\u001b[0m\u001b[0mc\u001b[0m\u001b[0;34m)\u001b[0m\u001b[0;34m:\u001b[0m\u001b[0;34m\u001b[0m\u001b[0;34m\u001b[0m\u001b[0m\n\u001b[0m\u001b[1;32m      9\u001b[0m             \u001b[0mseen_letters\u001b[0m\u001b[0;34m.\u001b[0m\u001b[0madd\u001b[0m\u001b[0;34m(\u001b[0m\u001b[0mc\u001b[0m\u001b[0;34m)\u001b[0m\u001b[0;34m\u001b[0m\u001b[0;34m\u001b[0m\u001b[0m\n\u001b[1;32m     10\u001b[0m     \u001b[0;31m# проверим, что встретили все 33 буквы\u001b[0m\u001b[0;34m\u001b[0m\u001b[0;34m\u001b[0m\u001b[0m\n",
      "\u001b[0;31mNameError\u001b[0m: name 'is_russian_alphabet_letter' is not defined"
     ]
    }
   ],
   "source": [
    "def test_task_2():\n",
    "    tests = (\n",
    "        ('Съешь же ещё этих мягких французских булок да выпей чаю', True),\n",
    "        ('Широкая электрификация южных губерний даст мощный толчок подъёму сельского хозяйства', True),\n",
    "        ('В чащах юга жил бы цитрус? Да, но фальшивый экземпляр!', False),\n",
    "        ('А роза упала на лапу Азора', False),\n",
    "        ('Мои папа и мама! Я живу хорошо. Просто замечательно. У меня есть свой дом', False),\n",
    "    )\n",
    "    num_correct = 0\n",
    "    for test, correct_answer in tests:\n",
    "        result = is_pangram(test)\n",
    "        if result != correct_answer:\n",
    "            print(f'Проверьте свою функцию на строке \"{test}\"')\n",
    "            continue\n",
    "        num_correct += 1\n",
    "    print()\n",
    "    print(f'Количество правильно решённых тестов: {num_correct} из {len(tests)}')\n",
    "    if num_correct == len(tests):\n",
    "        print('Отличный результат!')\n",
    "\n",
    "test_task_2()"
   ]
  }
 ],
 "metadata": {
  "colab": {
   "provenance": []
  },
  "kernelspec": {
   "display_name": "Python 3 (ipykernel)",
   "language": "python",
   "name": "python3"
  },
  "language_info": {
   "codemirror_mode": {
    "name": "ipython",
    "version": 3
   },
   "file_extension": ".py",
   "mimetype": "text/x-python",
   "name": "python",
   "nbconvert_exporter": "python",
   "pygments_lexer": "ipython3",
   "version": "3.12.3"
  }
 },
 "nbformat": 4,
 "nbformat_minor": 5
}
